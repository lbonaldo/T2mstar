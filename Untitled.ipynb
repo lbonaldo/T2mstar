{
 "cells": [
  {
   "cell_type": "code",
   "execution_count": 4,
   "id": "d5a178d5-f088-49c9-9ead-8f77f73a5b8a",
   "metadata": {},
   "outputs": [],
   "source": [
    "import torch\n",
    "import numpy as np"
   ]
  },
  {
   "cell_type": "code",
   "execution_count": 2,
   "id": "1e783c72-0fe2-4203-9100-78e7b3c3469a",
   "metadata": {},
   "outputs": [],
   "source": [
    "train_data = \"data/train_data.out\"\n",
    "test_data = \"data/test_data.out\""
   ]
  },
  {
   "cell_type": "code",
   "execution_count": 5,
   "id": "040baed6-6b1b-47a3-9b3a-a1093d7d2cce",
   "metadata": {},
   "outputs": [],
   "source": [
    "x_train = torch.Tensor(np.load('./data/x_train.npy'))\n",
    "y_train = torch.Tensor(np.load('./data/y_train.npy'))\n",
    "\n",
    "x_test = torch.Tensor(np.load('./data/x_test.npy'))\n",
    "y_test = torch.Tensor(np.load('./data/y_test.npy'))"
   ]
  },
  {
   "cell_type": "code",
   "execution_count": 11,
   "id": "c9e03806-f250-4ebd-b1a4-3713df7ebfa6",
   "metadata": {},
   "outputs": [
    {
     "data": {
      "text/plain": [
       "tensor([[ 0.9860,  0.4272,  0.4326,  0.1415,  0.1073,  0.4900],\n",
       "        [ 0.9005,  0.6814,  0.9975, -0.0678, -0.2577,  0.6300],\n",
       "        [ 0.4043,  0.0679,  0.2125,  0.1074,  0.3378,  0.9400],\n",
       "        [ 0.7157,  0.1615,  0.8215,  0.6552, -0.0291,  3.1600],\n",
       "        [ 0.2611,  0.2136,  0.7583,  0.0245, -0.3752,  1.6100],\n",
       "        [ 0.9063,  0.5184,  0.8980, -0.0615, -0.1551,  0.8600],\n",
       "        [ 0.9734,  0.2744,  0.6483,  0.3571,  0.5426,  1.4000],\n",
       "        [ 0.6853,  0.4239,  0.8427, -0.4994, -0.5971,  2.6900],\n",
       "        [ 0.7042,  0.5518,  0.1251,  0.0050, -0.5435,  1.8300],\n",
       "        [ 0.9253,  0.6833,  0.6400,  0.5105, -0.1507,  1.1100]])"
      ]
     },
     "execution_count": 11,
     "metadata": {},
     "output_type": "execute_result"
    }
   ],
   "source": [
    "x_train[:10,:]"
   ]
  },
  {
   "cell_type": "code",
   "execution_count": 14,
   "id": "53956a4b-ebeb-45ec-907c-cce43de8d99e",
   "metadata": {},
   "outputs": [
    {
     "data": {
      "text/plain": [
       "tensor([ 0.0915,  0.1201,  0.0850, -0.1803,  0.0426,  0.1432,  0.3039,  0.0257,\n",
       "        -0.1584, -0.0981])"
      ]
     },
     "execution_count": 14,
     "metadata": {},
     "output_type": "execute_result"
    }
   ],
   "source": [
    "y_train[:10]"
   ]
  },
  {
   "cell_type": "code",
   "execution_count": 1,
   "id": "aee9bf74-60aa-4710-a60a-9aeab22c277c",
   "metadata": {},
   "outputs": [],
   "source": [
    "import torch"
   ]
  },
  {
   "cell_type": "code",
   "execution_count": 2,
   "id": "7215ca20-6f44-40ad-b6fc-af5a576844c8",
   "metadata": {},
   "outputs": [],
   "source": [
    "use_cuda = torch.cuda.is_available()\n",
    "device = torch.device(\"cuda\" if use_cuda else \"cpu\")"
   ]
  },
  {
   "cell_type": "code",
   "execution_count": 4,
   "id": "cd19fff4-6a33-4ea8-ab73-71940758cf58",
   "metadata": {},
   "outputs": [
    {
     "data": {
      "text/plain": [
       "True"
      ]
     },
     "execution_count": 4,
     "metadata": {},
     "output_type": "execute_result"
    }
   ],
   "source": [
    "use_cuda"
   ]
  },
  {
   "cell_type": "code",
   "execution_count": null,
   "id": "4a7a1173-972f-4b65-a135-fd5364b71244",
   "metadata": {},
   "outputs": [],
   "source": []
  }
 ],
 "metadata": {
  "kernelspec": {
   "display_name": "Python 3 (ipykernel)",
   "language": "python",
   "name": "python3"
  },
  "language_info": {
   "codemirror_mode": {
    "name": "ipython",
    "version": 3
   },
   "file_extension": ".py",
   "mimetype": "text/x-python",
   "name": "python",
   "nbconvert_exporter": "python",
   "pygments_lexer": "ipython3",
   "version": "3.7.11"
  }
 },
 "nbformat": 4,
 "nbformat_minor": 5
}
