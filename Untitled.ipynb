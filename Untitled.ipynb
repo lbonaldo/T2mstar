{
 "cells": [
  {
   "cell_type": "code",
   "execution_count": 7,
   "metadata": {},
   "outputs": [],
   "source": [
    "import numpy as np\n",
    "import matplotlib.pyplot as plt"
   ]
  },
  {
   "cell_type": "code",
   "execution_count": 8,
   "metadata": {},
   "outputs": [],
   "source": [
    "x_train = np.load('/mnt/scratch/bonal1lCMICH/inverse/toy/data/coeff_train.npy')\n",
    "y_train = np.load('/mnt/scratch/bonal1lCMICH/inverse/toy/data/I_train.npy')\n",
    "x_test = np.load( '/mnt/scratch/bonal1lCMICH/inverse/toy/data/coeff_test.npy')\n",
    "y_test = np.load( '/mnt/scratch/bonal1lCMICH/inverse/toy/data/I_test.npy')"
   ]
  },
  {
   "cell_type": "code",
   "execution_count": 9,
   "metadata": {},
   "outputs": [
    {
     "name": "stdout",
     "output_type": "stream",
     "text": [
      "-0.015178747474830834\n"
     ]
    }
   ],
   "source": [
    "print(y_train[1])"
   ]
  },
  {
   "cell_type": "code",
   "execution_count": 3,
   "metadata": {},
   "outputs": [
    {
     "name": "stdout",
     "output_type": "stream",
     "text": [
      "0.667872570179351 0.6674137106931203\n",
      "0.23503806603330263 0.23555663600989285\n",
      "0.22188992316454867 0.22403791929382105\n",
      "0.34348620462390045 0.34248379220646075\n",
      "0.6665099288593185 0.6656999914961357\n",
      "0.23636380247753555 0.23600854838966892\n",
      "0.22222716836664289 0.22166900401511413\n",
      "0.343749669001794 0.34170899355100454\n",
      "0.00039305916702132957 -0.0015240547239887734\n",
      "0.4726459968093263 0.47148919469393435\n",
      "2.5249999999999924 2.5249999999999897\n",
      "1.4318257575557158 1.4318257575557114\n",
      "-0.0005325562456584062 -0.0003248124733548911\n",
      "0.13137408840635795 0.13143366282976024\n"
     ]
    }
   ],
   "source": [
    "for i in range(6):\n",
    "    print(np.mean(x_train[:,i]), np.mean(x_test[:,i]))\n",
    "    print(np.std(x_train[:,i]), np.std(x_test[:,i]))\n",
    "print(np.mean(y_train), np.mean(y_test))\n",
    "print(np.std(y_train), np.std(y_test))"
   ]
  },
  {
   "cell_type": "code",
   "execution_count": 4,
   "metadata": {},
   "outputs": [
    {
     "data": {
      "text/plain": [
       "-0.001524054723988773"
      ]
     },
     "execution_count": 4,
     "metadata": {},
     "output_type": "execute_result"
    }
   ],
   "source": [
    "np.mean(x_test[:,4])"
   ]
  },
  {
   "cell_type": "code",
   "execution_count": null,
   "metadata": {},
   "outputs": [],
   "source": [
    "plt.hist(x_test[:,4])"
   ]
  },
  {
   "cell_type": "code",
   "execution_count": null,
   "metadata": {},
   "outputs": [],
   "source": []
  }
 ],
 "metadata": {
  "kernelspec": {
   "display_name": "Python 3 (ipykernel)",
   "language": "python",
   "name": "python3"
  },
  "language_info": {
   "codemirror_mode": {
    "name": "ipython",
    "version": 3
   },
   "file_extension": ".py",
   "mimetype": "text/x-python",
   "name": "python",
   "nbconvert_exporter": "python",
   "pygments_lexer": "ipython3",
   "version": "3.8.3"
  }
 },
 "nbformat": 4,
 "nbformat_minor": 5
}
